{
 "cells": [
  {
   "cell_type": "markdown",
   "metadata": {
    "collapsed": true,
    "pycharm": {
     "name": "#%% md\n"
    }
   },
   "source": [
    "# Data Exploration"
   ]
  },
  {
   "cell_type": "code",
   "execution_count": 1,
   "outputs": [],
   "source": [
    "# IMPORTS\n",
    "\n",
    "import pandas as pd\n",
    "import sys\n",
    "import numpy as np\n",
    "import matplotlib.pyplot as plt\n",
    "import gc\n",
    "import seaborn as sns"
   ],
   "metadata": {
    "collapsed": false,
    "pycharm": {
     "name": "#%%\n",
     "is_executing": false
    }
   }
  },
  {
   "cell_type": "markdown",
   "source": [
    "## Load Data"
   ],
   "metadata": {
    "collapsed": false,
    "pycharm": {
     "name": "#%% md\n",
     "is_executing": false
    }
   }
  },
  {
   "cell_type": "code",
   "execution_count": 2,
   "outputs": [
    {
     "name": "stdout",
     "text": [
      "Wall time: 1min 20s\n"
     ],
     "output_type": "stream"
    }
   ],
   "source": [
    "%%time\n",
    "\n",
    "df = pd.read_csv('data/train.csv')"
   ],
   "metadata": {
    "collapsed": false,
    "pycharm": {
     "name": "#%%\n",
     "is_executing": false
    }
   }
  },
  {
   "cell_type": "code",
   "execution_count": 3,
   "outputs": [
    {
     "data": {
      "text/plain": "   row_id  timestamp  user_id  content_id  content_type_id  task_container_id  \\\n0       0          0      115        5692                0                  1   \n1       1      56943      115        5716                0                  2   \n2       2     118363      115         128                0                  0   \n3       3     131167      115        7860                0                  3   \n4       4     137965      115        7922                0                  4   \n\n   user_answer  answered_correctly  prior_question_elapsed_time  \\\n0            3                   1                          NaN   \n1            2                   1                      37000.0   \n2            0                   1                      55000.0   \n3            0                   1                      19000.0   \n4            1                   1                      11000.0   \n\n  prior_question_had_explanation  \n0                            NaN  \n1                          False  \n2                          False  \n3                          False  \n4                          False  ",
      "text/html": "<div>\n<style scoped>\n    .dataframe tbody tr th:only-of-type {\n        vertical-align: middle;\n    }\n\n    .dataframe tbody tr th {\n        vertical-align: top;\n    }\n\n    .dataframe thead th {\n        text-align: right;\n    }\n</style>\n<table border=\"1\" class=\"dataframe\">\n  <thead>\n    <tr style=\"text-align: right;\">\n      <th></th>\n      <th>row_id</th>\n      <th>timestamp</th>\n      <th>user_id</th>\n      <th>content_id</th>\n      <th>content_type_id</th>\n      <th>task_container_id</th>\n      <th>user_answer</th>\n      <th>answered_correctly</th>\n      <th>prior_question_elapsed_time</th>\n      <th>prior_question_had_explanation</th>\n    </tr>\n  </thead>\n  <tbody>\n    <tr>\n      <th>0</th>\n      <td>0</td>\n      <td>0</td>\n      <td>115</td>\n      <td>5692</td>\n      <td>0</td>\n      <td>1</td>\n      <td>3</td>\n      <td>1</td>\n      <td>NaN</td>\n      <td>NaN</td>\n    </tr>\n    <tr>\n      <th>1</th>\n      <td>1</td>\n      <td>56943</td>\n      <td>115</td>\n      <td>5716</td>\n      <td>0</td>\n      <td>2</td>\n      <td>2</td>\n      <td>1</td>\n      <td>37000.0</td>\n      <td>False</td>\n    </tr>\n    <tr>\n      <th>2</th>\n      <td>2</td>\n      <td>118363</td>\n      <td>115</td>\n      <td>128</td>\n      <td>0</td>\n      <td>0</td>\n      <td>0</td>\n      <td>1</td>\n      <td>55000.0</td>\n      <td>False</td>\n    </tr>\n    <tr>\n      <th>3</th>\n      <td>3</td>\n      <td>131167</td>\n      <td>115</td>\n      <td>7860</td>\n      <td>0</td>\n      <td>3</td>\n      <td>0</td>\n      <td>1</td>\n      <td>19000.0</td>\n      <td>False</td>\n    </tr>\n    <tr>\n      <th>4</th>\n      <td>4</td>\n      <td>137965</td>\n      <td>115</td>\n      <td>7922</td>\n      <td>0</td>\n      <td>4</td>\n      <td>1</td>\n      <td>1</td>\n      <td>11000.0</td>\n      <td>False</td>\n    </tr>\n  </tbody>\n</table>\n</div>"
     },
     "metadata": {},
     "output_type": "execute_result",
     "execution_count": 3
    }
   ],
   "source": [
    "df.head()"
   ],
   "metadata": {
    "collapsed": false,
    "pycharm": {
     "name": "#%%\n",
     "is_executing": false
    }
   }
  },
  {
   "cell_type": "code",
   "execution_count": 4,
   "outputs": [
    {
     "name": "stdout",
     "text": [
      "Max difference in timestamp:  83884261286.0\nMax user number: 2147482888\n\n",
      "Number of unique row ids:  101230332\n",
      "Number of unique content ids (questions/lectures):  13782\n",
      "Number of unique task container ids:  10000\n",
      "Number of unique answers:  5\n",
      "Number of unique content type:  2\n",
      "Number of unique answered correctly:  3\n",
      "Number of unique prev had expl (Odd, seems to only be Nan and False):  2\n"
     ],
     "output_type": "stream"
    }
   ],
   "source": [
    "print('Max difference in timestamp: ', df.timestamp.diff().max())\n",
    "print('Max user number:',df['user_id'].max())\n",
    "print()\n",
    "print('Number of unique row ids: ', df['row_id'].nunique())\n",
    "print('Number of unique content ids (questions/lectures): ', df['content_id'].nunique())\n",
    "print('Number of unique task container ids: ', df['task_container_id'].nunique())\n",
    "print('Number of unique answers: ', df['user_answer'].nunique())\n",
    "print('Number of unique content type: ', df['content_type_id'].nunique())\n",
    "print('Number of unique answered correctly: ', df['answered_correctly'].nunique())\n",
    "print('Number of unique prev had expl (Odd, seems to only be Nan and False): ', df['prior_question_had_explanation'].nunique())"
   ],
   "metadata": {
    "collapsed": false,
    "pycharm": {
     "name": "#%%\n",
     "is_executing": false
    }
   }
  },
  {
   "cell_type": "code",
   "execution_count": 5,
   "outputs": [],
   "source": [
    "# print('Size of the dataset', sys.getsizeof(df) / 1000000000, 'GB')\n",
    "# 10.88GB"
   ],
   "metadata": {
    "collapsed": false,
    "pycharm": {
     "name": "#%%\n",
     "is_executing": false
    }
   }
  },
  {
   "cell_type": "markdown",
   "source": [
    "# Data Visualization"
   ],
   "metadata": {
    "collapsed": false,
    "pycharm": {
     "name": "#%% md\n"
    }
   }
  },
  {
   "cell_type": "code",
   "execution_count": 6,
   "outputs": [],
   "source": [
    "colors = ['#00FFE2', '#00FDFF', '#00BCFF', '#0082FF', '#8000FF', '#B300FF', '#F400FF']\n",
    "\n",
    "def dist_plot(df, feature, title, color=colors[4], categorical=True):\n",
    "    \n",
    "    if categorical:\n",
    "        values = df[feature].value_counts().values\n",
    "    else:\n",
    "        values = df[feature].values\n",
    "        \n",
    "    print(f'{feature} information:')\n",
    "    print(f'Mean: {np.mean(values)}')\n",
    "    print(f'Median: {np.median(values)}')\n",
    "    print(f'Max: {np.max(values)}\\n')\n",
    "    \n",
    "    plt.figure(figsize = (18, 4))\n",
    "    \n",
    "    if categorical:\n",
    "        sns.distplot(values, hist=False, color = color, kde_kws = {'lw':3})\n",
    "    else:\n",
    "        # To speed up the process\n",
    "        sns.distplot(values[::250000], hist=False, color = color, kde_kws = {'lw':3})\n",
    "    \n",
    "    plt.title(title, fontsize=15)\n",
    "    plt.show();\n",
    "    \n",
    "    del values\n",
    "    gc.collect()"
   ],
   "metadata": {
    "collapsed": false,
    "pycharm": {
     "name": "#%%\n",
     "is_executing": false
    }
   }
  },
  {
   "cell_type": "code",
   "execution_count": 7,
   "outputs": [],
   "source": [
    "def barplot_features(df, feature, title, palette=colors[2:]):\n",
    "    '''Takes the numerical columns (with less than 10 categories) and plots the barplot.'''\n",
    "    \n",
    "    # We need to extract both the name of the category and the no. of appearences\n",
    "    index = df[feature].value_counts().reset_index()[\"index\"].values\n",
    "    values = df[feature].value_counts().reset_index()[feature].values\n",
    "\n",
    "    plt.figure(figsize = (18, 4))\n",
    "    sns.barplot(x = index, y = values, palette = colors[2:])\n",
    "    plt.title(title, fontsize=15)\n",
    "    plt.show();\n",
    "    \n",
    "    del index, values\n",
    "    gc.collect()\n",
    "    "
   ],
   "metadata": {
    "collapsed": false,
    "pycharm": {
     "name": "#%%\n",
     "is_executing": false
    }
   }
  },
  {
   "cell_type": "code",
   "execution_count": 8,
   "outputs": [
    {
     "name": "stdout",
     "text": [
      "Unique Users: 393656\n",
      "Unique content type: 2\n"
     ],
     "output_type": "stream"
    }
   ],
   "source": [
    "print('Unique Users:',df['user_id'].nunique())\n",
    "print('Unique content type:',df['content_type_id'].nunique())"
   ],
   "metadata": {
    "collapsed": false,
    "pycharm": {
     "name": "#%%\n",
     "is_executing": false
    }
   }
  },
  {
   "cell_type": "markdown",
   "source": [
    "## Categorical Features"
   ],
   "metadata": {
    "collapsed": false,
    "pycharm": {
     "name": "#%% md\n"
    }
   }
  },
  {
   "cell_type": "code",
   "execution_count": 9,
   "outputs": [
    {
     "name": "stdout",
     "text": [
      "user_id information:\nMean: 257.1542971528441\nMedian: 41.0\nMax: 17917\n\n",
      "content_id information:\nMean: 7345.111885067479\nMedian: 4728.5\nMax: 213605\n\n",
      "task_container_id information:\nMean: 10123.0332\nMedian: 1318.0\nMax: 804285\n\n"
     ],
     "output_type": "stream"
    },
    {
     "name": "stderr",
     "text": [
      "c:\\users\\tyler\\desktop\\school\\fall 2020\\datascience\\project\\venv\\lib\\site-packages\\seaborn\\distributions.py:2551: FutureWarning: `distplot` is a deprecated function and will be removed in a future version. Please adapt your code to use either `displot` (a figure-level function with similar flexibility) or `kdeplot` (an axes-level function for kernel density plots).\n  warnings.warn(msg, FutureWarning)\n",
      "c:\\users\\tyler\\desktop\\school\\fall 2020\\datascience\\project\\venv\\lib\\site-packages\\seaborn\\distributions.py:2551: FutureWarning: `distplot` is a deprecated function and will be removed in a future version. Please adapt your code to use either `displot` (a figure-level function with similar flexibility) or `kdeplot` (an axes-level function for kernel density plots).\n  warnings.warn(msg, FutureWarning)\n",
      "c:\\users\\tyler\\desktop\\school\\fall 2020\\datascience\\project\\venv\\lib\\site-packages\\seaborn\\distributions.py:2551: FutureWarning: `distplot` is a deprecated function and will be removed in a future version. Please adapt your code to use either `displot` (a figure-level function with similar flexibility) or `kdeplot` (an axes-level function for kernel density plots).\n  warnings.warn(msg, FutureWarning)\n"
     ],
     "output_type": "stream"
    },
    {
     "data": {
      "text/plain": "<Figure size 1296x288 with 1 Axes>",
      "image/png": "[encoded data removed]"
     },
     "metadata": {
      "needs_background": "light"
     },
     "output_type": "display_data"
    },
    {
     "data": {
      "text/plain": "<Figure size 1296x288 with 1 Axes>",
      "image/png": "[encoded data removed]"
     },
     "metadata": {
      "needs_background": "light"
     },
     "output_type": "display_data"
    },
    {
     "data": {
      "text/plain": "<Figure size 1296x288 with 1 Axes>",
      "image/png": "[encoded data removed]"
     },
     "metadata": {
      "needs_background": "light"
     },
     "output_type": "display_data"
    }
   ],
   "source": [
    "categorical_features = ['user_id', 'content_id', 'task_container_id']\n",
    "\n",
    "for feature in categorical_features:\n",
    "    dist_plot(df, feature=feature, title = feature + \" countplot distribution\", color=colors[4], categorical=True)"
   ],
   "metadata": {
    "collapsed": false,
    "pycharm": {
     "name": "#%%\n",
     "is_executing": false
    }
   }
  },
  {
   "cell_type": "markdown",
   "source": [
    "## Numerical Features"
   ],
   "metadata": {
    "collapsed": false,
    "pycharm": {
     "name": "#%% md\n"
    }
   }
  },
  {
   "cell_type": "code",
   "execution_count": 10,
   "outputs": [
    {
     "name": "stdout",
     "text": [
      "timestamp information:\nMean: 7703643654.326523\n",
      "Median: 2674233764.5\nMax: 87425772049\n\n",
      "prior_question_elapsed_time information:\nMean: nan\n",
      "Median: nan\nMax: nan\n\n"
     ],
     "output_type": "stream"
    },
    {
     "name": "stderr",
     "text": [
      "c:\\users\\tyler\\desktop\\school\\fall 2020\\datascience\\project\\venv\\lib\\site-packages\\seaborn\\distributions.py:2551: FutureWarning: `distplot` is a deprecated function and will be removed in a future version. Please adapt your code to use either `displot` (a figure-level function with similar flexibility) or `kdeplot` (an axes-level function for kernel density plots).\n  warnings.warn(msg, FutureWarning)\n",
      "c:\\users\\tyler\\desktop\\school\\fall 2020\\datascience\\project\\venv\\lib\\site-packages\\seaborn\\distributions.py:2551: FutureWarning: `distplot` is a deprecated function and will be removed in a future version. Please adapt your code to use either `displot` (a figure-level function with similar flexibility) or `kdeplot` (an axes-level function for kernel density plots).\n  warnings.warn(msg, FutureWarning)\n"
     ],
     "output_type": "stream"
    },
    {
     "data": {
      "text/plain": "<Figure size 1296x288 with 1 Axes>",
      "image/png": "[encoded data removed]"
     },
     "metadata": {
      "needs_background": "light"
     },
     "output_type": "display_data"
    },
    {
     "data": {
      "text/plain": "<Figure size 1296x288 with 1 Axes>",
      "image/png": "[encoded data removed]"
     },
     "metadata": {
      "needs_background": "light"
     },
     "output_type": "display_data"
    }
   ],
   "source": [
    "numerical_features = ['timestamp', 'prior_question_elapsed_time']\n",
    "\n",
    "for feature in numerical_features:\n",
    "    dist_plot(df, feature=feature, title = feature + \" distribution\", color =colors[1], categorical=False)"
   ],
   "metadata": {
    "collapsed": false,
    "pycharm": {
     "name": "#%%\n",
     "is_executing": false
    }
   }
  },
  {
   "cell_type": "markdown",
   "source": [
    "## Count the interactions from most users\n",
    "Determine if a sequential model could be used"
   ],
   "metadata": {
    "collapsed": false,
    "pycharm": {
     "name": "#%% md\n",
     "is_executing": false
    }
   }
  },
  {
   "cell_type": "code",
   "execution_count": 11,
   "outputs": [
    {
     "name": "stdout",
     "text": [
      "Number of users with number of interactions over 30 : 298472\nNumber of users with number of interactions below 30 : 95184\n"
     ],
     "output_type": "stream"
    }
   ],
   "source": [
    "thresh = 30\n",
    "\n",
    "counts = df['user_id'].value_counts().to_frame()\n",
    "\n",
    "print(f'Number of users with number of interactions over {thresh} : {counts[counts[\"user_id\"] >= thresh].count()[0]}')\n",
    "print(f'Number of users with number of interactions below {thresh} : {counts[counts[\"user_id\"] < thresh].count()[0]}')"
   ],
   "metadata": {
    "collapsed": false,
    "pycharm": {
     "name": "#%%\n",
     "is_executing": false
    }
   }
  },
  {
   "cell_type": "markdown",
   "source": [
    "Look at documentation for Saint+, looks promising for this project"
   ],
   "metadata": {
    "collapsed": false,
    "pycharm": {
     "name": "#%% md\n"
    }
   }
  },
  {
   "cell_type": "code",
   "execution_count": 3,
   "outputs": [
    {
     "data": {
      "text/plain": "   question_id  bundle_id  correct_answer  part            tags\n0            0          0               0     1   51 131 162 38\n1            1          1               1     1       131 36 81\n2            2          2               0     1  131 101 162 92\n3            3          3               0     1  131 149 162 29\n4            4          4               3     1    131 5 162 38",
      "text/html": "<div>\n<style scoped>\n    .dataframe tbody tr th:only-of-type {\n        vertical-align: middle;\n    }\n\n    .dataframe tbody tr th {\n        vertical-align: top;\n    }\n\n    .dataframe thead th {\n        text-align: right;\n    }\n</style>\n<table border=\"1\" class=\"dataframe\">\n  <thead>\n    <tr style=\"text-align: right;\">\n      <th></th>\n      <th>question_id</th>\n      <th>bundle_id</th>\n      <th>correct_answer</th>\n      <th>part</th>\n      <th>tags</th>\n    </tr>\n  </thead>\n  <tbody>\n    <tr>\n      <th>0</th>\n      <td>0</td>\n      <td>0</td>\n      <td>0</td>\n      <td>1</td>\n      <td>51 131 162 38</td>\n    </tr>\n    <tr>\n      <th>1</th>\n      <td>1</td>\n      <td>1</td>\n      <td>1</td>\n      <td>1</td>\n      <td>131 36 81</td>\n    </tr>\n    <tr>\n      <th>2</th>\n      <td>2</td>\n      <td>2</td>\n      <td>0</td>\n      <td>1</td>\n      <td>131 101 162 92</td>\n    </tr>\n    <tr>\n      <th>3</th>\n      <td>3</td>\n      <td>3</td>\n      <td>0</td>\n      <td>1</td>\n      <td>131 149 162 29</td>\n    </tr>\n    <tr>\n      <th>4</th>\n      <td>4</td>\n      <td>4</td>\n      <td>3</td>\n      <td>1</td>\n      <td>131 5 162 38</td>\n    </tr>\n  </tbody>\n</table>\n</div>"
     },
     "metadata": {},
     "output_type": "execute_result",
     "execution_count": 3
    }
   ],
   "source": [
    "df_q = pd.read_csv('data/questions.csv')\n",
    "df_q.head()"
   ],
   "metadata": {
    "collapsed": false,
    "pycharm": {
     "name": "#%%\n",
     "is_executing": false
    }
   }
  },
  {
   "cell_type": "code",
   "execution_count": 4,
   "outputs": [
    {
     "name": "stdout",
     "text": [
      "Number of unique question tags: 188\n"
     ],
     "output_type": "stream"
    }
   ],
   "source": [
    "tags = df_q.tags.str.split(expand=True)\n",
    "tags.fillna(value=np.nan, inplace=True)\n",
    "tags = np.nan_to_num(tags.to_numpy().flatten(), nan=0).astype('float32')\n",
    "tags_df = pd.DataFrame(tags)\n",
    "tags_df.head()\n",
    "\n",
    "print('Number of unique question tags:', tags_df[0].nunique())"
   ],
   "metadata": {
    "collapsed": false,
    "pycharm": {
     "name": "#%%\n",
     "is_executing": false
    }
   }
  },
  {
   "cell_type": "code",
   "execution_count": 5,
   "outputs": [
    {
     "name": "stdout",
     "text": [
      "Max bundle ids:  13522\nNumber of unique bundle ids:  9765\nNumber of unique question ids:  13523\nNumber of unique parts:  7\nNumber of unique parts:  4\n"
     ],
     "output_type": "stream"
    }
   ],
   "source": [
    "print('Max bundle ids: ', df_q['bundle_id'].max())\n",
    "print('Number of unique bundle ids: ', df_q['bundle_id'].nunique())\n",
    "print('Number of unique question ids: ', df_q['question_id'].nunique())\n",
    "print('Number of unique parts: ', df_q['part'].nunique())\n",
    "print('Number of unique parts: ', df_q['correct_answer'].nunique())"
   ],
   "metadata": {
    "collapsed": false,
    "pycharm": {
     "name": "#%%\n",
     "is_executing": false
    }
   }
  },
  {
   "cell_type": "markdown",
   "source": [
    "# How to best format for network\n",
    "I think the best option is to use a dictionary containing all of the users linked to a list, in order, of all the\n",
    "questions that they have answered before. This list would contain all of the features we are looking at for each \n",
    "question.\n",
    "\n",
    "Dict = { sequence }\n",
    "\n",
    "sequence = [ [feature 1], [feature2] ... ], [ ans1, ans2, ...]\n",
    "\n",
    "feature1 = [<br>\n",
    "content type: one hot <br>\n",
    "task container: binary encode<br>\n",
    "user answer:one hot<br>\n",
    "prior had expl: one hot<br>\n",
    "prior time: numerical normalize<br>\n",
    "correct ans? : one hot<br>\n",
    "bundle id: binary encode<br>\n",
    "type of: one hot<br>\n",
    "part: one hot<br>\n",
    "tags: binary encode<br>\n",
    "]\n",
    "\n",
    "The sequence is fed into the lstm, then the use id is embedded and concatenated with the output of the lstm before it\n",
    "goes into the dense layer.\n",
    "\n"
   ],
   "metadata": {
    "collapsed": false,
    "pycharm": {
     "name": "#%% md\n"
    }
   }
  }
 ],
 "metadata": {
  "kernelspec": {
   "display_name": "Python 3",
   "language": "python",
   "name": "python3"
  },
  "language_info": {
   "codemirror_mode": {
    "name": "ipython",
    "version": 2
   },
   "file_extension": ".py",
   "mimetype": "text/x-python",
   "name": "python",
   "nbconvert_exporter": "python",
   "pygments_lexer": "ipython2",
   "version": "2.7.6"
  },
  "pycharm": {
   "stem_cell": {
    "cell_type": "raw",
    "source": [],
    "metadata": {
     "collapsed": false
    }
   }
  }
 },
 "nbformat": 4,
 "nbformat_minor": 0
}